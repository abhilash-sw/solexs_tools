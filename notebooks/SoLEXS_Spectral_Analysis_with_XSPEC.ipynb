{
 "cells": [
  {
   "cell_type": "code",
   "execution_count": null,
   "id": "80b180e8-03e0-4c4b-9fc9-909d28fb1fde",
   "metadata": {},
   "outputs": [],
   "source": [
    "from astropy.io import fits\n",
    "import numpy \n",
    "import xspec\n",
    "import matplotlib.pyplot as plt\n",
    "%matplotlib inline"
   ]
  },
  {
   "cell_type": "markdown",
   "id": "8c74018f-7413-49e3-a29d-40e0a567f56a",
   "metadata": {},
   "source": [
    "# Visualize Lightcurve Data"
   ]
  },
  {
   "cell_type": "code",
   "execution_count": null,
   "id": "0ab023c4-a6fc-4925-8803-817c8523044b",
   "metadata": {},
   "outputs": [],
   "source": [
    "lc_file = 'AL1_SOLEXS_20240212/L1/SDD2/AL1_SOLEXS_20240212_SDD2_L1.lc.gz'\n",
    "hdu_lc = fits.open(lc_file)\n",
    "lc_data = hdu_lc[2].data\n",
    "counts_lc = lc_data['COUNTS_ALL']"
   ]
  },
  {
   "cell_type": "code",
   "execution_count": null,
   "id": "98deff66-30d1-4e4c-84e1-622d63443d2d",
   "metadata": {},
   "outputs": [],
   "source": [
    "fig, ax = plt.subplots()\n",
    "\n",
    "fig.set_size_inches(16,9)\n",
    "\n",
    "ax.semilogy(lc_data['TIME'],counts_lc,label='1 second')\n",
    "ax.grid()"
   ]
  },
  {
   "cell_type": "markdown",
   "id": "7a9e22e5-bcc3-4878-9344-6a5588eb6daa",
   "metadata": {},
   "source": [
    "## Flare Peak Time Interval"
   ]
  },
  {
   "cell_type": "code",
   "execution_count": null,
   "id": "0fb6509b-53e0-4b97-8b3d-266124994c36",
   "metadata": {},
   "outputs": [],
   "source": [
    "fig, ax = plt.subplots()\n",
    "\n",
    "fig.set_size_inches(16,9)\n",
    "\n",
    "ax.semilogy(lc_data['TIME'],counts_lc,label='1 second')\n",
    "ax.axvline(lc_data['TIME'][13605],color='k',ls='--')\n",
    "ax.axvline(lc_data['TIME'][13635],color='k',ls='--')\n",
    "ax.grid()\n",
    "\n",
    "ax.set_xlim([lc_data['TIME'][13000],lc_data['TIME'][15000]])"
   ]
  },
  {
   "cell_type": "markdown",
   "id": "226f661e-5c8c-45a0-b49a-b8ee77074872",
   "metadata": {},
   "source": [
    "## Generating SoLEXS Spectrum Corresponding to Flare Peak"
   ]
  },
  {
   "cell_type": "code",
   "execution_count": null,
   "id": "c58eb078-a456-40cb-a19c-907392f364d1",
   "metadata": {},
   "outputs": [],
   "source": [
    "!solexs-genspec -i AL1_SOLEXS_20240212/L1/SDD2/AL1_SOLEXS_20240212_SDD2_L1.pi.gz -tstart 1707689805 -tstop 1707689835 -gti AL1_SOLEXS_20240212/L1/SDD2/AL1_SOLEXS_20240212_SDD2_L1.gti.gz"
   ]
  },
  {
   "cell_type": "markdown",
   "id": "21f1dc46-afab-4aaf-986a-348bf220fa6a",
   "metadata": {},
   "source": [
    "# Spectral Fitting (Single Temperature)"
   ]
  },
  {
   "cell_type": "code",
   "execution_count": null,
   "id": "12bc692b-8c1f-4319-bbc0-74c3768e39d6",
   "metadata": {},
   "outputs": [],
   "source": [
    "xspec.AllModels.lmod('chspec',dirPath='/path/to/chspec/')"
   ]
  },
  {
   "cell_type": "code",
   "execution_count": null,
   "id": "8689ecdc-c324-4996-9072-ea5a30ee9b0c",
   "metadata": {},
   "outputs": [],
   "source": [
    "xspec.AllData.clear()\n",
    "xspec.AllModels.clear()"
   ]
  },
  {
   "cell_type": "code",
   "execution_count": null,
   "id": "08ef2c1f-d7c0-474c-96f1-880cfb172abe",
   "metadata": {},
   "outputs": [],
   "source": [
    "specfile = 'AL1_SOLEXS_20240212_SDD2_L1_034645_034715.pi'"
   ]
  },
  {
   "cell_type": "code",
   "execution_count": null,
   "id": "b80e1146-944c-4e23-9bd4-9e33e811357c",
   "metadata": {},
   "outputs": [],
   "source": [
    "spec = xspec.Spectrum(specfile)"
   ]
  },
  {
   "cell_type": "code",
   "execution_count": null,
   "id": "e50309b3-71a8-40a3-a257-3c9ced568c30",
   "metadata": {},
   "outputs": [],
   "source": [
    "xspec.AllModels.systematic = 0.04 # set systematic error to be 4%"
   ]
  },
  {
   "cell_type": "code",
   "execution_count": null,
   "id": "8af3a05f-04cf-45ba-861c-a8782871bcfa",
   "metadata": {},
   "outputs": [],
   "source": [
    "xspec.Plot.device = '/xw'\n",
    "xspec.Plot.xAxis = 'keV'"
   ]
  },
  {
   "cell_type": "code",
   "execution_count": null,
   "id": "e768bd3c-f9b0-4d4d-8d2a-81bc35298d0b",
   "metadata": {},
   "outputs": [],
   "source": [
    "spec.ignore(\"**-2.8 12.0-**\")  # Fit energy range 2.8 to 12 keV"
   ]
  },
  {
   "cell_type": "code",
   "execution_count": null,
   "id": "4d0e5231-9055-4728-8fb7-0c324cd839c7",
   "metadata": {},
   "outputs": [],
   "source": [
    "model = xspec.Model(\"chisoth\")"
   ]
  },
  {
   "cell_type": "code",
   "execution_count": null,
   "id": "fd35e5d3-d80e-456e-9ce9-b2edf8ab627a",
   "metadata": {},
   "outputs": [],
   "source": [
    "model(1).values=[7] #Temperature initial guess\n",
    "\n",
    "#Thaw adundances\n",
    "model(18).frozen = False # Ar Abundance\n",
    "model(20).frozen = False # Ca Abundance\n",
    "model(26).frozen = False # Fe Abundance\n",
    "model(28).frozen = False # Ni Abundance"
   ]
  },
  {
   "cell_type": "code",
   "execution_count": null,
   "id": "7d6b18ec-3cff-4a72-82db-19a4f3c413be",
   "metadata": {},
   "outputs": [],
   "source": [
    "xspec.Fit.perform()"
   ]
  },
  {
   "cell_type": "code",
   "execution_count": null,
   "id": "f64398ba-6663-4643-8b2e-5623fdd93dfe",
   "metadata": {},
   "outputs": [],
   "source": [
    "chisq = xspec.Fit.statistic # Total chi-square value\n",
    "dof = xspec.Fit.dof # Degrees of freedom\n",
    "red_chi = chisq / dof # Reduced chi-square\n",
    "print(f'Reduced chi square = {red_chi}')"
   ]
  },
  {
   "cell_type": "code",
   "execution_count": null,
   "id": "a6ce42ab-8816-48a7-be35-bcbf56b7501a",
   "metadata": {},
   "outputs": [],
   "source": [
    "xspec.Plot(\"ldata delchi\")"
   ]
  },
  {
   "cell_type": "markdown",
   "id": "d8eb53b7",
   "metadata": {},
   "source": [
    "# Spectral Fitting (Two Temperature)"
   ]
  },
  {
   "cell_type": "code",
   "execution_count": null,
   "id": "8b4990b2",
   "metadata": {},
   "outputs": [],
   "source": [
    "xspec.AllModels.lmod('chspec',dirPath='/path/to/chspec/')"
   ]
  },
  {
   "cell_type": "code",
   "execution_count": null,
   "id": "9e370eee",
   "metadata": {},
   "outputs": [],
   "source": [
    "xspec.AllData.clear()\n",
    "xspec.AllModels.clear()"
   ]
  },
  {
   "cell_type": "code",
   "execution_count": null,
   "id": "d4917722",
   "metadata": {},
   "outputs": [],
   "source": [
    "specfile = 'AL1_SOLEXS_20240212_SDD2_L1_034645_034715.pi'"
   ]
  },
  {
   "cell_type": "code",
   "execution_count": null,
   "id": "b6e32aab",
   "metadata": {},
   "outputs": [],
   "source": [
    "spec = xspec.Spectrum(specfile)"
   ]
  },
  {
   "cell_type": "code",
   "execution_count": null,
   "id": "11f77cb5",
   "metadata": {},
   "outputs": [],
   "source": [
    "xspec.AllModels.systematic = 0.04 # set systematic error to be 4%"
   ]
  },
  {
   "cell_type": "code",
   "execution_count": null,
   "id": "e3ecbe25",
   "metadata": {},
   "outputs": [],
   "source": [
    "xspec.Plot.device = '/xw'\n",
    "xspec.Plot.xAxis = 'keV'"
   ]
  },
  {
   "cell_type": "code",
   "execution_count": null,
   "id": "73a6fff1",
   "metadata": {},
   "outputs": [],
   "source": [
    "spec.ignore(\"**-2.0 12.0-**\")  # Fit energy range 2.8 to 12 keV"
   ]
  },
  {
   "cell_type": "code",
   "execution_count": null,
   "id": "3d25df96",
   "metadata": {},
   "outputs": [],
   "source": [
    "model = xspec.Model(\"chisoth + chisoth\")"
   ]
  },
  {
   "cell_type": "code",
   "execution_count": null,
   "id": "5cff4ca4",
   "metadata": {},
   "outputs": [],
   "source": [
    "model(1).values=[7.3] #First Temperature initial guess\n",
    "\n",
    "#Thaw adundances\n",
    "model(18).frozen = False # Ar Abundance\n",
    "model(20).frozen = False # Ca Abundance\n",
    "model(26).frozen = False # Fe Abundance\n",
    "model(28).frozen = False # Ni Abundance\n",
    "\n",
    "model(32).values=[7] #Second Temperature initial guess"
   ]
  },
  {
   "cell_type": "code",
   "execution_count": null,
   "id": "1517006b",
   "metadata": {},
   "outputs": [],
   "source": [
    "xspec.Fit.perform()"
   ]
  },
  {
   "cell_type": "code",
   "execution_count": null,
   "id": "350fd287",
   "metadata": {},
   "outputs": [],
   "source": [
    "chisq = xspec.Fit.statistic # Total chi-square value\n",
    "dof = xspec.Fit.dof # Degrees of freedom\n",
    "red_chi = chisq / dof # Reduced chi-square\n",
    "print(f'Reduced chi square = {red_chi}')"
   ]
  },
  {
   "cell_type": "code",
   "execution_count": null,
   "id": "7e0bcc0f",
   "metadata": {},
   "outputs": [],
   "source": [
    "xspec.Plot(\"ldata delchi\")"
   ]
  }
 ],
 "metadata": {
  "kernelspec": {
   "display_name": "Python 3 (ipykernel)",
   "language": "python",
   "name": "python3"
  },
  "language_info": {
   "codemirror_mode": {
    "name": "ipython",
    "version": 3
   },
   "file_extension": ".py",
   "mimetype": "text/x-python",
   "name": "python",
   "nbconvert_exporter": "python",
   "pygments_lexer": "ipython3",
   "version": "3.11.7"
  }
 },
 "nbformat": 4,
 "nbformat_minor": 5
}
